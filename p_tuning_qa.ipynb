{
  "cells": [
    {
      "cell_type": "markdown",
      "metadata": {
        "id": "view-in-github",
        "colab_type": "text"
      },
      "source": [
        "<a href=\"https://colab.research.google.com/github/goddoe/hacking-llms-for-low-res-settings/blob/main/p_tuning_qa.ipynb\" target=\"_parent\"><img src=\"https://colab.research.google.com/assets/colab-badge.svg\" alt=\"Open In Colab\"/></a>"
      ]
    },
    {
      "cell_type": "code",
      "execution_count": null,
      "id": "012d8ec0-ac99-4776-acba-8329f0e07420",
      "metadata": {
        "id": "012d8ec0-ac99-4776-acba-8329f0e07420"
      },
      "outputs": [],
      "source": [
        "import argparse\n",
        "import os\n",
        "\n",
        "import torch\n",
        "from torch.optim import AdamW\n",
        "from torch.utils.data import DataLoader\n",
        "from peft import (\n",
        "    get_peft_config,\n",
        "    get_peft_model,\n",
        "    get_peft_model_state_dict,\n",
        "    set_peft_model_state_dict,\n",
        "    TaskType,\n",
        "    PeftType,\n",
        "    PrefixTuningConfig,\n",
        "    PromptEncoderConfig,\n",
        ")\n",
        "\n",
        "from datasets import load_dataset\n",
        "from transformers import AutoModelForCausalLM, AutoTokenizer, get_linear_schedule_with_warmup, set_seed\n",
        "from tqdm import tqdm"
      ]
    },
    {
      "cell_type": "code",
      "execution_count": null,
      "id": "26744996-3c2c-4b04-8ffc-db4c09cc696e",
      "metadata": {
        "id": "26744996-3c2c-4b04-8ffc-db4c09cc696e"
      },
      "outputs": [],
      "source": [
        "batch_size = 1\n",
        "model_name_or_path = \"EleutherAI/polyglot-ko-1.3b\"\n",
        "peft_type = PeftType.PREFIX_TUNING\n",
        "device = \"cuda\"\n",
        "num_epochs = 5\n",
        "\n",
        "dataset_name = \"heegyu/korquad-chat-v1\"\n",
        "max_length = 2048"
      ]
    },
    {
      "cell_type": "code",
      "execution_count": null,
      "id": "5d2d28f6-c637-48fb-a59b-6a44f1591d80",
      "metadata": {
        "id": "5d2d28f6-c637-48fb-a59b-6a44f1591d80"
      },
      "outputs": [],
      "source": [
        "peft_config = PromptEncoderConfig(task_type=TaskType.CAUSAL_LM,\n",
        "                                  num_virtual_tokens=20,\n",
        "                                  encoder_hidden_size=128)\n",
        "lr = 1e-2"
      ]
    },
    {
      "cell_type": "code",
      "execution_count": null,
      "id": "d61c7c84-46fa-41cb-a2ea-d01df62b2707",
      "metadata": {
        "id": "d61c7c84-46fa-41cb-a2ea-d01df62b2707"
      },
      "outputs": [],
      "source": [
        "tokenizer = AutoTokenizer.from_pretrained(model_name_or_path)"
      ]
    },
    {
      "cell_type": "code",
      "execution_count": null,
      "id": "6e92454f-6d6f-461b-b65c-45cbab1193ba",
      "metadata": {
        "id": "6e92454f-6d6f-461b-b65c-45cbab1193ba"
      },
      "outputs": [],
      "source": [
        "def tokenize_function(examples):\n",
        "    # max_length=None => use the model max length (it's actually the default)\n",
        "    outputs = tokenizer(examples[\"text\"], truncation=True, max_length=None)\n",
        "    return outputs\n",
        "\n",
        "def collate_fn(examples):\n",
        "    return tokenizer.pad(examples, padding=\"longest\", return_tensors=\"pt\")\n",
        "\n",
        "dataset = load_dataset(dataset_name)\n",
        "\n",
        "\n",
        "tokenized_dataset = dataset.map(tokenize_function,\n",
        "                                batched=True,\n",
        "                                remove_columns=[\"source\", \"text\"])\n",
        "\n",
        "td = tokenized_dataset['train'].train_test_split(train_size=0.8)\n",
        "\n",
        "train_dataloader = DataLoader(td['train'],\n",
        "                              batch_size=batch_size,\n",
        "                              shuffle=True,\n",
        "                              collate_fn=collate_fn)\n",
        "eval_dataloader = DataLoader(td['test'],\n",
        "                             batch_size=batch_size,\n",
        "                             collate_fn=collate_fn)"
      ]
    },
    {
      "cell_type": "code",
      "execution_count": null,
      "id": "24340647-2c04-434f-aa55-4289486b9128",
      "metadata": {
        "id": "24340647-2c04-434f-aa55-4289486b9128"
      },
      "outputs": [],
      "source": [
        "model = AutoModelForCausalLM.from_pretrained(model_name_or_path, return_dict=True)\n",
        "model = get_peft_model(model, peft_config)\n",
        "model.print_trainable_parameters()\n",
        "model"
      ]
    },
    {
      "cell_type": "code",
      "execution_count": null,
      "id": "438f87d8-1539-4f84-8dc0-295b55903ebf",
      "metadata": {
        "id": "438f87d8-1539-4f84-8dc0-295b55903ebf"
      },
      "outputs": [],
      "source": [
        "def get_grouped_params(model, no_decay=[\"bias\", \"LayerNorm.weight\"], weight_decay=0.1):\n",
        "    params_with_wd, params_without_wd = [], []\n",
        "    for n, p in model.named_parameters():\n",
        "        if any(nd in n for nd in no_decay):\n",
        "            params_without_wd.append(p)\n",
        "        else:\n",
        "            params_with_wd.append(p)\n",
        "    return [\n",
        "        {\"params\": params_with_wd, \"weight_decay\": weight_decay},\n",
        "        {\"params\": params_without_wd, \"weight_decay\": 0.0},\n",
        "    ]\n",
        "    \n",
        "\n",
        "def evaluate():\n",
        "    model.eval()\n",
        "    losses = []\n",
        "    for step, batch in enumerate(eval_dataloader):\n",
        "        with torch.no_grad():\n",
        "            outputs = model(batch[\"input_ids\"], labels=batch[\"input_ids\"])\n",
        "\n",
        "        losses.append(accelerator.gather(outputs.loss))\n",
        "    loss = torch.mean(torch.stack(losses))\n",
        "    try:\n",
        "        perplexity = torch.exp(loss)\n",
        "    except OverflowError:\n",
        "        perplexity = float(\"inf\")\n",
        "    return loss.item(), perplexity.item()"
      ]
    },
    {
      "cell_type": "code",
      "execution_count": null,
      "id": "59f6e7ca-0207-4c7e-8912-7e03d94529ae",
      "metadata": {
        "id": "59f6e7ca-0207-4c7e-8912-7e03d94529ae"
      },
      "outputs": [],
      "source": [
        "optimizer = AdamW(get_grouped_params(model), lr=lr)\n",
        "\n",
        "# Instantiate scheduler\n",
        "lr_scheduler = get_linear_schedule_with_warmup(\n",
        "    optimizer=optimizer,\n",
        "    num_warmup_steps=0,  # 0.06*(len(train_dataloader) * num_epochs),\n",
        "    num_training_steps=(len(train_dataloader) * num_epochs),\n",
        ")"
      ]
    },
    {
      "cell_type": "code",
      "execution_count": null,
      "id": "b91afd1c-8c05-4141-b02f-8eda45580d30",
      "metadata": {
        "id": "b91afd1c-8c05-4141-b02f-8eda45580d30"
      },
      "outputs": [],
      "source": [
        "model.to(device)\n",
        "\n",
        "best_model_path = \"./outputs/best_p_tuning_model\"\n",
        "min_valid_ppl = 9999999.\n",
        "\n",
        "for epoch in range(num_epochs):\n",
        "    model.train()\n",
        "    for step, batch in enumerate(tqdm(train_dataloader)):\n",
        "        batch.to(device)\n",
        "        outputs = model(batch['input_ids'], labels=batch['input_ids'])\n",
        "        loss = outputs.loss\n",
        "        loss.backward()\n",
        "        optimizer.step()\n",
        "        lr_scheduler.step()\n",
        "        optimizer.zero_grad()\n",
        "\n",
        "\n",
        "    eval_loss, perplexity = evaluate()\n",
        "    eval_metric = {\"loss/eval\": eval_loss, \"perplexity\": perplexity}\n",
        "\n",
        "    print(f\"epoch {epoch}:\", eval_metric)\n",
        "    if eval_metric['perplexity'] <= min_valid_ppl:\n",
        "        best_acc = eval_metric['perplexity']\n",
        "        model.save_pretrained(best_model_path)\n",
        "        tokenizer.save_pretrained(best_model_path)"
      ]
    },
    {
      "cell_type": "markdown",
      "id": "310d4201-37db-44e0-8aa8-a30f46a0f238",
      "metadata": {
        "id": "310d4201-37db-44e0-8aa8-a30f46a0f238"
      },
      "source": [
        "# Load and Inference"
      ]
    },
    {
      "cell_type": "code",
      "execution_count": null,
      "id": "cfe5078e-765d-4ae8-9a6b-7bdc656d66b7",
      "metadata": {
        "id": "cfe5078e-765d-4ae8-9a6b-7bdc656d66b7"
      },
      "outputs": [],
      "source": [
        "import torch\n",
        "from peft import PeftModel, PeftConfig\n",
        "from transformers import AutoModelForCausalLM, AutoTokenizer, pipeline"
      ]
    },
    {
      "cell_type": "code",
      "execution_count": null,
      "id": "03e68b7c-8dbc-4e5c-8a6c-d810638fa6cd",
      "metadata": {
        "id": "03e68b7c-8dbc-4e5c-8a6c-d810638fa6cd"
      },
      "outputs": [],
      "source": [
        "config = PeftConfig.from_pretrained(best_model_path)\n",
        "inference_model = AutoModelForCausalLM.from_pretrained(config.base_model_name_or_path)\n",
        "tokenizer = AutoTokenizer.from_pretrained(config.base_model_name_or_path)\n",
        "\n",
        "# Load the Lora model\n",
        "inference_model = PeftModel.from_pretrained(inference_model, best_model_path)\n",
        "inference_model.eval()"
      ]
    },
    {
      "cell_type": "code",
      "execution_count": null,
      "id": "192eff45-2148-42a7-95be-2447fb436a15",
      "metadata": {
        "id": "192eff45-2148-42a7-95be-2447fb436a15"
      },
      "outputs": [],
      "source": [
        "generator = pipeline(\"text-generation\",\n",
        "                     model=inference_model,\n",
        "                     tokenizer=tokenizer,\n",
        "                     device=0)"
      ]
    },
    {
      "cell_type": "code",
      "execution_count": null,
      "id": "54c2454b-89e4-4532-b5e3-8863b5140902",
      "metadata": {
        "id": "54c2454b-89e4-4532-b5e3-8863b5140902"
      },
      "outputs": [],
      "source": [
        "prompt = \"<sys>1839년 바그너는 괴테의 파우스트을 처음 읽고 그 내용에 마음이 끌려 이를 소재로 해서 하나의 교향곡을 쓰려는 뜻을 갖는다.\\n<usr>\""
      ]
    },
    {
      "cell_type": "code",
      "execution_count": null,
      "id": "950e4b24-2570-4e7b-bc0e-66ce2a0d0b91",
      "metadata": {
        "id": "950e4b24-2570-4e7b-bc0e-66ce2a0d0b91"
      },
      "outputs": [],
      "source": [
        "bot_text = generator(f\"{prompt} 바그너가 1839년에 파우스트를 소재로 한 교향곡 작곡을 시작했다는데, 왜 이 소재에 마음이 끌렸을까?\\n<bot>\",\n",
        "                     max_new_tokens=128, \n",
        "                     return_full_text=False)"
      ]
    },
    {
      "cell_type": "code",
      "execution_count": null,
      "id": "b80f2b05-779d-4aa5-8bb6-150c5a738cb6",
      "metadata": {
        "id": "b80f2b05-779d-4aa5-8bb6-150c5a738cb6"
      },
      "outputs": [],
      "source": [
        "print(bot_text)"
      ]
    },
    {
      "cell_type": "code",
      "execution_count": null,
      "id": "497d8cc6-95a8-4155-b414-9efe93811b92",
      "metadata": {
        "id": "497d8cc6-95a8-4155-b414-9efe93811b92"
      },
      "outputs": [],
      "source": [
        "print(bot_text[0]['generated_text'].split(\"<usr>\")[0])"
      ]
    },
    {
      "cell_type": "code",
      "execution_count": null,
      "id": "b5f7a094-2fc8-4055-b1f7-337da8b1d27a",
      "metadata": {
        "id": "b5f7a094-2fc8-4055-b1f7-337da8b1d27a"
      },
      "outputs": [],
      "source": [
        "dataset['train']['text'][0]"
      ]
    },
    {
      "cell_type": "code",
      "execution_count": null,
      "id": "9e424933-6f92-41cc-976d-5cf9f7d1d636",
      "metadata": {
        "id": "9e424933-6f92-41cc-976d-5cf9f7d1d636"
      },
      "outputs": [],
      "source": []
    }
  ],
  "metadata": {
    "kernelspec": {
      "display_name": "Python 3 (ipykernel)",
      "language": "python",
      "name": "python3"
    },
    "language_info": {
      "codemirror_mode": {
        "name": "ipython",
        "version": 3
      },
      "file_extension": ".py",
      "mimetype": "text/x-python",
      "name": "python",
      "nbconvert_exporter": "python",
      "pygments_lexer": "ipython3",
      "version": "3.11.3"
    },
    "colab": {
      "provenance": [],
      "include_colab_link": true
    }
  },
  "nbformat": 4,
  "nbformat_minor": 5
}